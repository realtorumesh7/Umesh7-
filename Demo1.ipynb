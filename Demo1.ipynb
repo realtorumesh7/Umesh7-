{
  "nbformat": 4,
  "nbformat_minor": 0,
  "metadata": {
    "colab": {
      "provenance": [],
      "authorship_tag": "ABX9TyPV6Tnu8YQiAl4730gRQu7r",
      "include_colab_link": true
    },
    "kernelspec": {
      "name": "python3",
      "display_name": "Python 3"
    },
    "language_info": {
      "name": "python"
    }
  },
  "cells": [
    {
      "cell_type": "markdown",
      "metadata": {
        "id": "view-in-github",
        "colab_type": "text"
      },
      "source": [
        "<a href=\"https://colab.research.google.com/github/realtorumesh7/Umesh7-/blob/main/Demo1.ipynb\" target=\"_parent\"><img src=\"https://colab.research.google.com/assets/colab-badge.svg\" alt=\"Open In Colab\"/></a>"
      ]
    },
    {
      "cell_type": "code",
      "execution_count": 1,
      "metadata": {
        "colab": {
          "base_uri": "https://localhost:8080/"
        },
        "id": "Uc-nlzZrk-l2",
        "outputId": "eb5becd0-ef91-42ea-f045-413687be8436"
      },
      "outputs": [
        {
          "output_type": "stream",
          "name": "stdout",
          "text": [
            "False True\n"
          ]
        }
      ],
      "source": [
        "age_is_twelve ='False'\n",
        "name_is_Maria = 'True'\n",
        "print (age_is_twelve , name_is_Maria)"
      ]
    },
    {
      "cell_type": "code",
      "source": [
        " import statistics\n",
        "\n",
        " x= (9,10,45,87)\n",
        "\n",
        " print (max(x))\n",
        " print (min(x));\n",
        " print (statistics.mean(x));\n",
        " print (statistics.median(x));\n",
        " print (statistics.stdev(x));"
      ],
      "metadata": {
        "colab": {
          "base_uri": "https://localhost:8080/"
        },
        "id": "WpyLpyplqx3Q",
        "outputId": "99572be6-d429-4172-b4c8-010467715eef"
      },
      "execution_count": 11,
      "outputs": [
        {
          "output_type": "stream",
          "name": "stdout",
          "text": [
            "87\n",
            "9\n",
            "37.75\n",
            "27.5\n",
            "36.854443422740765\n"
          ]
        }
      ]
    },
    {
      "cell_type": "code",
      "source": [
        "d = {'key1':1,'Key2':2,'Key3':3}\n",
        "print(d['key1'])\n",
        "print(d['Key2'])\n",
        "print(d['Key3'])\n",
        "key = [d['key1'],d['Key2'],d['Key3']]\n",
        "key.sort(reverse = True)\n",
        "Key1 = [d['key1']**2,d['Key2']**2,d['Key3']**2]\n",
        "print(key)\n",
        "print(Key1)"
      ],
      "metadata": {
        "colab": {
          "base_uri": "https://localhost:8080/"
        },
        "id": "hEEpnG6G7Niv",
        "outputId": "d075cd61-9fe5-4f87-b72c-f0fc93fd3eff"
      },
      "execution_count": 27,
      "outputs": [
        {
          "output_type": "stream",
          "name": "stdout",
          "text": [
            "1\n",
            "2\n",
            "3\n",
            "[3, 2, 1]\n",
            "[1, 4, 9]\n"
          ]
        }
      ]
    },
    {
      "cell_type": "code",
      "source": [
        "Item = ('Roti','Rice','Wheat','Sugar')\n",
        "\n",
        "Item = list(Item)\n",
        "Item.remove('Sugar')\n",
        "Item.append('Salt')\n",
        "Item = tuple(Item)\n",
        "print(Item)\n",
        "\n",
        "#del Item['Sugar']\n",
        "#print(Item)"
      ],
      "metadata": {
        "colab": {
          "base_uri": "https://localhost:8080/"
        },
        "id": "xpfoDklv_ETs",
        "outputId": "d19b7809-7a7f-4510-f627-64f7d8c9fe3d"
      },
      "execution_count": 35,
      "outputs": [
        {
          "output_type": "stream",
          "name": "stdout",
          "text": [
            "('Roti', 'Rice', 'Wheat', 'Salt')\n"
          ]
        }
      ]
    },
    {
      "cell_type": "code",
      "source": [
        "Count = 0;\n",
        "if Count < 5:\n",
        "  print(' Hello, I am an as if statement andcount is',Count)\n",
        "while Count <= 5:\n",
        "  print('Hello, I am a while and count is', Count)\n",
        "  Count += 1\n"
      ],
      "metadata": {
        "colab": {
          "base_uri": "https://localhost:8080/"
        },
        "id": "4Dwk46NdRRj-",
        "outputId": "b5f817cc-ea94-40a7-f83b-629ddc7222b7"
      },
      "execution_count": 39,
      "outputs": [
        {
          "output_type": "stream",
          "name": "stdout",
          "text": [
            " Hello, I am an as if statement andcount is 0\n",
            "Hello, I am a while and count is 0\n",
            "Hello, I am a while and count is 1\n",
            "Hello, I am a while and count is 2\n",
            "Hello, I am a while and count is 3\n",
            "Hello, I am a while and count is 4\n",
            "Hello, I am a while and count is 5\n"
          ]
        }
      ]
    },
    {
      "cell_type": "code",
      "source": [
        "import random\n",
        "\n",
        "print ('Lucky Numbers! 3 numbers will be generated.')\n",
        "print (\"if one of the them is '5', you lose!\")\n",
        "\n",
        "count = 0\n",
        "while count < 3:\n",
        "  num = random.randint(1,10)\n",
        "  print(num)\n",
        "  if num == 5:\n",
        "    print('Sorry, you lose!')\n",
        "    break\n",
        "  count += 1\n",
        "else:\n",
        "    print('You win!')\n"
      ],
      "metadata": {
        "colab": {
          "base_uri": "https://localhost:8080/"
        },
        "id": "NnKx4uPVTXYU",
        "outputId": "e97c2cae-dc03-444f-f7b5-55994c94a2f1"
      },
      "execution_count": 49,
      "outputs": [
        {
          "output_type": "stream",
          "name": "stdout",
          "text": [
            "Lucky Numbers! 3 numbers will be generated.\n",
            "if one of the them is '5', you lose!\n",
            "2\n",
            "6\n",
            "2\n",
            "You win!\n"
          ]
        }
      ]
    }
  ]
}